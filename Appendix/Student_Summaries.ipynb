{
 "cells": [
  {
   "attachments": {},
   "cell_type": "markdown",
   "metadata": {},
   "source": [
    "# Student Participation (Spring 2024)\n",
    "Students will work in pairs to produce summaries of each class meeting.  These summaries should list the main topics discussed and emphasized ideas/examples during the respective lecture.  Students are encouraged to be as detailed as possible without being overly verbose.  The summaries should be submitted as a [pull request](https://docs.github.com/en/codespaces/the-githubdev-web-based-editor) from **your forked repository** before the next class meeting.\n"
   ]
  },
  {
   "attachments": {},
   "cell_type": "markdown",
   "metadata": {},
   "source": [
    "## Jan 8\n",
    "\n",
    "## Class Overview \n",
    "  - This class uses the first half of An **Introduction to Modern Astrophysics** by Carroll & Ostlie (2007)\n",
    "    - *Cosmology covers the latter half*\n",
    "\n",
    "  - Class calender shows all expected exams and assighments due, and can be found here.\n",
    "    - [Course Schedule](https://calendar.google.com/calendar/u/0?cid=ZDQ4ZDMxZGYxYmVjNTY5YzZiOWQ0OWFkN2Y1NmZmZTFiMDQ4MzUyMzYzOGQ2MmQ2MWQwMWI0YzI5NzEyYTY2NEBncm91cC5jYWxlbmRhci5nb29nbGUuY29t)\n",
    "  \n",
    "**Syllabus**\n",
    "\n",
    "- Course includes  **2 presentations** and **3 exams**.\n",
    "- follows this grading split\n",
    "  - Relative Weights\n",
    "    - Teaching Pres. 10%\n",
    "    - Review Pres. 20%\n",
    "    - Exams 15% (each)\n",
    "    - Participation 10%\n",
    "    - Homework 15%\n",
    "\n",
    "\n",
    "- Exams\n",
    "  - **Two closed-book exams and one take-home**\n",
    "  - exams will be a mixture of multiple choice and free repsonse questions\n",
    "    - should resemble some homework questions\n",
    "\n",
    "- Course Presentations\n",
    "    1. requires the student to teach a data analysis or modeling skill\n",
    "using an open-source python package to the instructor and other students.\n",
    "  - uses Astropy \n",
    "  - **10 minutes long**\n",
    "    2. Pairs of students will also present a full review of a topic within astrophysics.\n",
    "  -  **20 minutes long** with a **5 min** period for questions.\n",
    "\n",
    "- Grading Scale\n",
    "  - A 88 -- 100%\n",
    "  - B 77 -- 87%\n",
    "  - C 66 -- 76%\n",
    "  - D 55 -- 65%\n",
    "  - F <54%\n",
    "\n",
    "- Office hours\n",
    "  - 11am – 12 pm, MWF,\n",
    "  - 10:00 – 11:00am TR,\n",
    "\n",
    "**Course website**\n",
    "- all the course website can be viewed in the **code version** of the website \n",
    "  - useful for seeing how billy took certain notes \n",
    "\n",
    "---\n",
    "**GitHub accounts**\n",
    "\n",
    "- to have a personal version of the raw version of the notes, you must **fork** the orignal repository\n",
    "  - https://github.com/saturnaxis/ModernAstro\n",
    "\n",
    "- to submit notes\n",
    "  1. in word or collab, write the notes\n",
    "  2. in the **forked** repository go to the **appendix** file and open the **Student_Summaries.ipynb** file\n",
    "  3. click the pencil icon to edit the file in **github.dev**  \n",
    "  4. then copy your written notes into the github.dev version of the code\n",
    "  5. If you didnt write your notes in collab, you can instead write the notes in the github.dev version of the notes\n",
    "  6. Once you are done writing the notes, click the **Source Control** icon to commit & push the updated version of code to youre forked repository \n",
    "  8. Look to see if the notes look correct, if they do, submit a **pull request** to get it added to main repository\n",
    "  9. Billy will get an email and push the request if the notes looks passable\n",
    "  10. Done\n",
    "\n",
    "- *tip when wirting notes collaborative*\n",
    "  - *it is much easier to have one google collab and then share it with the person you are paired to, rather than using word or anything else*"
   ]
  },
  {
   "attachments": {},
   "cell_type": "markdown",
   "metadata": {},
   "source": [
    "## Jan 10 \n",
    "### Continuous Spectrum of Light Part I\n",
    "\n",
    "- **1.1 Stellar Parallax** \n",
    "\n",
    "    - **Trigonometric parallax**: measurement of angular displacement of an object from two different vantage points creating a known baseline distance $B$ between observers. $d = B/tan(p)$. $tan(p)$ comes from small angle approximations, so we can use $p\"$ (\" standing for arcseconds) for angle values smaller than $1$ arcsecond.\n",
    "\n",
    "    - The angles at which these stars move relative to the much more distant stars in the background are very small.\n",
    "\n",
    "    - $3600$ arcseconds per $1$ degree because of $1/60/60 = 1/3600$. You have $360$ degrees of sky, split $1$ of those degrees into $60$ pieces, giving you $60$ arcminutes. Then you take $1$ of those arcminutes and split that into $60$ pieces, giving you $60$ arcseconds.\n",
    "\n",
    "    - Arcseconds are very small amounts of angle, and can be divided further for smaller movements across the night sky. Example: Proxima Centauri has a parallax angle of less than $1\"$.\n",
    "\n",
    "    - We measure stellar distances in units of parsecs (**par**allax-**sec**onds), 206,265 AU per parsec (great distance).\n",
    "\n",
    "    - First successful measurement of stellar parallax in 1838 by **Fredrich Bessel** (1784-1846).\n",
    "\n",
    "    - $1 pc = 3.2615638 ly$\n",
    "\n",
    "    - Objects with small parallax angles have interfering conditions such as geologic tremors or atmospheric turbulence which make it hard to find accurate angles. Space missions such as Hipparcos don't have this problem.\n",
    "\n",
    "\n",
    "- **1.2 The Magnitude Scale** \n",
    "    - **1.2.1 Apparent Magnitude**\n",
    "\n",
    "        - **Hipparchus** compiled a list of ~850 stars (some found by Persians before, he just added to the list and listed previously known ones) and compared their brightness. Later examinations of his scale showed that it was logarithmic because the human eye perceives the brightness of objects logarithmically.\n",
    "\n",
    "        - Example: if a bright light source were $6$ times brighter than another, the human eye will determine the brighter object as approximately twice the brightness of the other.\n",
    "\n",
    "\n",
    "        - This means that the difference in brightness between two different magnitude stars is $100^{(m2-m1)/5}= ΔB$. Two stars separated by $1$ magnitude have a difference in brightness of $2.512$ times, or $100^{1/5}$. Two stars separated by 5 magnitudes have $100$ times difference in brightness.\n",
    "\n",
    "\n",
    "    - **1.2.2 Flux, Luminosity, and the Inverse Square Law**\n",
    "\n",
    "        - **Radiant flux $F$** is the brightness of a star measured by the total amount of radiation at all wavelengths that cross a unit of area per unit time. Definition depends on the energy emitted per second at the stellar surface (intrinsic luminosity $L$)\n",
    "\n",
    "        - Luminosity $L$ is distributed uniformly across the surface area of a shell of radius $r$ surrounding a star.\n",
    "\n",
    "        - This is the well-known inverse square law for light. The $4π$ factor is not necessarily needed as the radiant flux of some stars are given relative to the Solar Luminosity (L_sol) and the Earth-Sun distance (r_earth).\n",
    "\n",
    "        - $F = L/4πr^2$\n",
    "\n",
    "\n",
    "    - **1.2.3 Flux Ratios and Apparent Magnitude**\n",
    "\n",
    "        - **Absolute magnitude M** of a star is the apparent magnitude a star would have if it were located at a distance of $10 pc$. We can find the ratio of their flux to be, ${\\frac{F_2}{F_1}} = 100^{m_1-m_2/5}$\n",
    "\n",
    "        - Logarithm of both sides of the flux ratio above gives an alternative form: $m_1-m_2 = -2.5log_{10}{\\frac{F_2}{F_1}}$\n",
    "\n",
    "\n",
    "    - **1.2.4 Absolute Magnitude and the Distance Modulus**\n",
    "\n",
    "        - **Distance modulus**: $m-M = 5log_{10}(d)-5 = 5log_{10}{\\frac{d}{10 parsecs}}$\n",
    "\n",
    "        - How bright a star would be if it were $10 pc$ away is called the absolute magnitude\n",
    "\n",
    "        - Multiply the $10$ over from $d/10 pc = 10^{(m-M)/5}$ and that gives you the +5 being added to the two magnitudes in the exponent\n",
    "\n",
    "        - Goes from $10^{-6}$ to $10^{-7}$ because the $d/10$ you are just dividing by $10^{1}$ to make a more negative exponent.\n",
    "\n",
    "        - M_Sun needs to be written out as \"Sun\" in the subscript, otherwise putting a circle dot would make the quantity the mass of the Sun.\n",
    "\n",
    "- **1.3 The Wave Nature of Light**\n",
    "\n",
    "    - **1.3.1 The Speed of Light**\n",
    "\n",
    "        - Ole Roemer determined that the speed of light was finite by extensive measurements of Jupiter's moons eclipsing when Earth was near the opposite side of the Sun compared to Jupiter.\n",
    "\n",
    "        - He used Kepler's original third law without universal gravitation. It wasn't until 1761 until we found out the distance of an AU, so that also hampered the mathematics needed to calculate the speed of light.\n",
    "\n",
    "    - **1.3.2 Young's Double-Slit Experiment**\n",
    "\n",
    "        - **Christian Huygens** (1629-1695) suggested that light was and behaved similarly to waves, with wavelengths, crests, and troughs.\n",
    "\n",
    "        - c = (wavelength)(frequency)\n",
    "\n",
    "        - Thomas Young's double-slit experiment: two waves of light interfering with each other going through the slits. **Destructive interference** occurs when the peaks and troughs of the light wave cancel eachother, making darker parts on the screen. **Constructive interference** occurs when there are brighter fringes.\n",
    "\n",
    "    - **1.3.3 Maxwell's Electromagnetic Wave Theory**\n",
    "\n",
    "        - Breakthrough in nature of light waves from Scottish mathematical physicist **James Clerk Maxwell (1831-1879)**.\n",
    "\n",
    "        - Electromagnetic waves are transverse waves with an **Electric field E** and **magnetic field B** component.\n",
    "\n",
    "    - **1.3.4 The Poynting Vector and Radiation Pressure**\n",
    "\n",
    "        - EM waves carry both energy and momentum in the direction of propagation. The rate at which energy is carried by a light wave is described by the Poynting vector.\n",
    "\n",
    "        - $S=\\frac{1}{\\mu_0}ExB$\n",
    "\n",
    "        - The Poynting vector is reliant on the cross product of the electric and magnetic field components of the EM wave. The units are in watts per meter squared $W m^{-2}$.\n",
    "\n",
    "        - When EM waves reflect off of a surface at a certain angle $θ$ because it is conserving momentum upon impact, causing it to go in another direction."
   ]
  },
  {
   "cell_type": "markdown",
   "metadata": {},
   "source": [
    "## Jan 15 (MLK Day)\n",
    "### No Class"
   ]
  },
  {
   "cell_type": "markdown",
   "metadata": {},
   "source": [
    "## Jan 17\n",
    "### Continuous Spectrum of Light Part II\n",
    "\n",
    "\n",
    "**1.41 The Connection between Color and Temperature**\n",
    "\n",
    "- The start of thermodynamics occured in the early 19th century\n",
    "\n",
    "- was found out that all objects emit light all all wavelenghts  with varying effecency\n",
    "\n",
    "  - **blackbodys**\n",
    "\n",
    "    - objects that absorb all of the incident light and re-radiates the energy with a characteristic spectrum **(blackbody radiation)**\n",
    "    \n",
    "      - blackbody radiation is the energy\n",
    "    - stars are blackbodys *(not perfect ones like expected though)*\n",
    "    - They  produce a continous spectrum with some energy are at all wavelenghts\n",
    "    - **Wiens displacment law** describes a relationship between temperature and color\n",
    "\n",
    "\\begin{align}\n",
    "\\lambda_{\\rm max}T = 2.897744 \\times 10^6 \\; {\\rm nm\\;K}.\n",
    "\\end{align}\n",
    "\n",
    "**1.42 The Stefan-Boltzmann Equation**\n",
    "- Spectral energy density increases for higher surface tempearture *(more intensity for higher temperature)*\n",
    "\n",
    "- Stefan-Boltzamnn found an equation for luminoisty\n",
    "\n",
    "  - derived from thermodynamics and Maxwells formula for radiation pressure\n",
    "\n",
    "$$L = \\sigma A T^4,$$\n",
    "\n",
    "\n",
    "**1.5.1 Rayleigh- Jeans and wiens Approximation**\n",
    "\n",
    "- based on Maxwells equations, Rayleigh derived an approximate  for wavlenghts and temperature.\n",
    "\n",
    "\\begin{align}\n",
    "B_\\lambda(T) \\approx \\frac{2ckT}{\\lambda^4},\n",
    "\\end{align}\n",
    "\n",
    "  - messes up at at a limit of $\\lambda$ (i.e., $ \\lim_{\\lambda\\rightarrow 0} B_\\lambda(T) = \\infty$).\n",
    "    - called the ultraviolet castastophe, or Rayleigh Jeans law\n",
    "\n",
    "- At the same time, Wien worked on his own approximation\n",
    "\\begin{align}\n",
    "B_\\lambda(T) \\approx a\\lambda^{-5}e^{-\\frac{b}{\\lambda T}},\n",
    "\\end{align}\n",
    "\n",
    "  - $a$ and $b$ were determined by a best-fit to the experimental data.\n",
    "\n",
    "**1.5.2. Planck’s Function for the Blackbody Radiation Curve**\n",
    "\n",
    "- Planck found a better more refined version of Wiens approximation\n",
    "\n",
    "  $$B_\\lambda(T) = \\frac{a\\lambda^{-5}}{e^{\\frac{b}{\\lambda T}}-1}. \\qquad \\text{(Planck Function)}$$\n",
    "\n",
    " - Subtracted one from the exponital function in Wiens approximation\n",
    " - Allows approximation fit the blackbody curves for both long and short wavelengths.\n",
    " - $a=2hc^2$ and $b= (hc)/k$.\n",
    "\n",
    "\n",
    "**1.5.3. The Planck Function and Astrophysics**\n",
    "\n",
    "- in spherical cooridantes the radiant energy given wavelenght per unit time can be expressed from an element of surface area dA as\n",
    "  $$L_\\lambda d\\lambda = \\int \\int \\int B_\\lambda(T)d\\lambda dA \\cos \\theta \\sin \\theta d\\theta d\\phi.$$\n",
    "\n",
    "**1.6. The Color Index**\n",
    "\n",
    "- Brightness measured over all wavelenghts is called *bolometric magnitude*\n",
    "\n",
    "\\begin{align}\n",
    " M_{bol} = M_{Sun} - 2.5\\log_{10}\\left(\\frac{L}{L_\\odot}\\right).\n",
    "\\end{align}\n",
    "\n",
    "  - in practice, scientist measure radiant flux through specific **filters** that only allow a certain wavelenght to pass\n",
    "\n",
    "**1.6.1  UBV Wavelength Filters**\n",
    "\n",
    "- A stars color can be precisely measured using a filter that permits a narrow range of wavelenghts to to pass through. Using this, Astromers developed a standard *UBV*  photmetric system to classify stars.\n",
    "\n",
    "  - (U) *Ultraviolet* magnitude centered at  365 +_ 65 mm\n",
    "\n",
    "  - (B) *Blue* magnitude 440 +_ 98mm\n",
    "  \n",
    "  - (V) *Visible*  550 +- 89 mm\n",
    "\n",
    "\n",
    "**1.6.2  Color indices and the Bolometric Correction**\n",
    "\n",
    " - **Color index**\n",
    "  - difference between stars apparent magnitude in each of hte standard wavelenghts\n",
    "\n",
    "$$U-B = m_u - m_B = M_U - M_B$$\n",
    "\n",
    "  -  and\n",
    "\n",
    "$$B-V = m_B - m_V = M_B - M_V$$\n",
    "\n",
    " - A star is blue is  if $M_b$ is is brighter than $M_v$ or $B-V$ is brigher\n",
    "\n",
    " - The difference between a star’s bolometric magnitude and its visual magnitude is called the **bolometric correction** $BC$\n",
    "\n",
    "\n",
    "  $$BC = m_{bol} - m_V = M_{bol}-M_V.$$\n",
    "\n",
    "- Apparent magnitudes corresponding to each filters can be determines through the apparent flux compared to another star.\n",
    "  - A &sensitivity function $S(λ)$ describes how much a star's flux can be detected for a given wawvelength.\n",
    "  - A star's magnitude with respect to a given filter X is\n",
    "\n",
    "    $$m_X = -2.5 \\log_{10}\\left(\\int_0^\\infty F_\\lambda S_X d\\lambda\\right) + C_X,$$\n",
    "\n",
    "- Color indices (U-B or B-V) are deteremed though the fulx ratio,\n",
    "\n",
    "\\begin{align}\n",
    " X-Y = m_X - m_Y = -2.5 \\log_{10}\\left(\\frac{\\int F_\\lambda S_X d\\lambda}{\\int F_\\lambda S_Y d\\lambda} \\right) + C_{X-Y},\n",
    "\\end{align}\n",
    "\n",
    " **1.6.3. The Color-Color-Diagram**\n",
    "\n",
    " - **Color diagram**\n",
    "  - shows relation bewteen the $U-B$ and $B-V$  indices for main sequence stars [here](https://saturnaxis.github.io/ModernAstro/_images/Figure_112.jpg)\n",
    "    - resmembles a H-R diagram  \n",
    "- stars are fueled by nuclear fusion of hydrogen nuclei\n",
    "   - 80 - 90 % of al stars lie on the main sequence\n",
    "\n",
    " - the Color diagram shows  stars are not perfect blackbodies\n",
    "    - **the relationship on the graph would be linear**\n",
    "  - very hot stars tend to fit the black body model\n",
    "  - as light travles to the stars core, it is differentially absorbed as a function of the wavelength of light and the star’s temperature."
   ]
  },
  {
   "cell_type": "markdown",
   "metadata": {},
   "source": [
    "## Jan 22\n",
    "### Interaction of Matter and Light Part I"
   ]
  },
  {
   "cell_type": "markdown",
   "metadata": {},
   "source": [
    "## Jan 24\n",
    "### Interaction of Matter and Light Part II"
   ]
  },
  {
   "cell_type": "markdown",
   "metadata": {},
   "source": [
    "## Jan 29\n",
    "### Telescopes Part I"
   ]
  },
  {
   "cell_type": "markdown",
   "metadata": {},
   "source": [
    "## Jan 31\n",
    "### Telescopes Part II\n",
    "\n",
    "**3.3 Radio Telescopes**\n",
    "\n",
    "By the 1930s, companies such as Bell Labs, were interested in short wave (λ=10 -20 m) transmissions for use in a trans-Atlantic radio service, where properties of the atmosphere and ionesphere could introduce static to radio voice transmissions.\n",
    "\n",
    "Radio telescopes operate differently from their optical counterpart where radio observations can be take any time of day or night. At long wavelengths, transmissions is limited by the ionesphere. Water vapor interferes with radio astronomy at shorter wavelengths, which has led to building radio observatories that conduct observations at milimiter wavelengths at very high sky.\n",
    "\n",
    "\n",
    "\n",
    "\n",
    "\n",
    "**3.3.1. Spectral Flux Density**\n",
    "\n",
    "A radio telescope uses a parabolic dish to reflect the radio energy to an antenna.\n",
    "\n",
    "Parabolic Dish:is a reflective surface used to collect or project energy such as light, sound, or radio waves.\n",
    "\n",
    "The strength of a radio source is measured in terms of the **spectral flux density** $S(\\nu)$, which is the amount of energy per second (W) per unit of frequency (Hz)  per unit area ($m^2$). Mathematicallt the power is given as\n",
    "\n",
    "$$P = \\int_A \\int_\\nu S(\\nu)f_\\nu d\\nu dA$$\n",
    "\n",
    "where $f_\\nu$ is the detector efficiency at a particular frequency $ν$. Typycal measurements are on the order of mJy, where a larger aperture is needed to collect enough photons to be measurable.\n",
    "\n",
    "To determine the power collected by the receiver, the spectral flux must be integrated over the telescope’s collecting area and over the detector’s bandwidth (i.e., frequency interval).\n",
    "\n",
    "\n",
    "\n",
    "**3.3.2. Improving Resolution: Large Apertures and Interferometry**\n",
    "\n",
    "The resolution of a single small radio telescope poor due to Rayleigh's criterion because the wavelength λ is necessarily large compared to the optical regime. To obtain a comparable resolution requires a very large aperture.\n",
    "\n",
    "The solution to improved resolution is accomplished through a technique called interferometry, which uses multiple telescopes to mimic a large aperture. For interferometry to work, astronomers utilize two radio telescopes separated by a baseline d. \n",
    "\n",
    "For the signal to arrive at both telescopes in-phase and at a maximum intensity, the extra distance traveled to one telescope must be an integral number of wavelengths $L=n\\lambda$, where $n=0,1,2,...$\n",
    "\n",
    "The pointing angle θ is then determined as\n",
    "\n",
    "$$\\sin \\theta = \\frac{L}{d}$$\n",
    "\n",
    "If the signals of the two antennas are combined and a source can be accurately located.\n",
    "\n",
    "A single has its greatest sensitivity along its pointed direction, but it also can be sensitive to radio sources at other angles. \n",
    "\n",
    "A typical antenna pattern maximizes the symmetry in dipole radiation, where there are three regions: a main lobe, black lobe and sidelobe. The narrowness of the main lobe is referred as the **half-power beam width** or angular width at half of its length.\n",
    "\n",
    "\n",
    "\n",
    "**3.4. IR, UV, X-Ray, and Gamma-ray Astronomy**\n",
    "\n",
    "**3.4.1. Atmospheric Windows in the EM Spectrum**\n",
    "\n",
    "Optical and radio telescopes can detect a vast majority of the radiation that reaches Earth’s surface. The primary contributor to IR absorption is water vapor, where some observatories are placed above the atmospheric water vapor to make this observations. IR observations are complicated by the background heat of the telescope and detector.\n",
    "\n",
    "\n",
    "\n",
    "**3.4.2. Observing Above the Atmosphere**\n",
    "\n",
    "In 1983, the Infrared Astronomy Satellite (IRAS) was placed in orbit 900 km above the Earth's surface. IRAS detected dust in orbit around young stars, which was an indication of the formation of planetary systems. Other new discoveries included a dust ring surrounding Vega and the first images of the Milky Way’s core.\n",
    "\n",
    "Shorter wavelengths require a very precise reflecting surface and it wasn’t until the Space Age could UV, X-ray, or Gamma-ray observations could be performed.\n",
    "\n",
    "From the success of IRAS, the European space Agency followed with the **Infrared Space Observatory** in 1995. The Cosmic Background Explorer (COBE) was launched and operated from 1989-1993 investigating the microwave regime. COBE was followed by two more advanced spacecraft: the Wilkinson Microwave Anisotropy Probe (WMAP) operated from 2001 to 2010 and the Planck spacecraft from 2009 to 2013.\n",
    "\n",
    "The most famous X-ray telescope Chandra has been in operation from 1999 and operates from 6.2 - 0.1 nm (0.2 - 10 keV) with an angular resolution of approximately 0.5′′.\n",
    "\n",
    "The Compton Gamma Ray Observatory (CGRO) was a space observatory designed to detect radiation with energy from 20 keV to 30 keV."
   ]
  },
  {
   "cell_type": "markdown",
   "metadata": {},
   "source": [
    "## Feb 5\n",
    "### Classification of Stellar Spectra Part I"
   ]
  },
  {
   "cell_type": "markdown",
   "metadata": {},
   "source": [
    "## Feb 7\n",
    "### Classification of Stellar Spectra Part II"
   ]
  },
  {
   "cell_type": "markdown",
   "metadata": {},
   "source": [
    "## Feb 12 (Exam I)\n",
    "### Exam I"
   ]
  },
  {
   "cell_type": "markdown",
   "metadata": {},
   "source": [
    "## Feb 14\n",
    "### Stellar Atmospheres Part I"
   ]
  },
  {
   "cell_type": "markdown",
   "metadata": {},
   "source": [
    "## Feb 19\n",
    "### Stellar Atmospheres Part II"
   ]
  },
  {
   "cell_type": "markdown",
   "metadata": {},
   "source": [
    "## Feb 21\n",
    "### Stellar Atmospheres Part III"
   ]
  },
  {
   "cell_type": "markdown",
   "metadata": {},
   "source": [
    "## Feb 26 \n",
    "### The Sun Part I"
   ]
  },
  {
   "cell_type": "markdown",
   "metadata": {},
   "source": [
    "## Feb 28 \n",
    "### The Sun Part II"
   ]
  },
  {
   "cell_type": "markdown",
   "metadata": {},
   "source": [
    "## Mar 4\n",
    "### The Interiors of Stars Part I\n",
    "### Teaching Presentations"
   ]
  },
  {
   "cell_type": "markdown",
   "metadata": {},
   "source": [
    "## Mar 6\n",
    "### The Interiors of Stars Part II\n",
    "### Teaching Presentations"
   ]
  },
  {
   "cell_type": "markdown",
   "metadata": {},
   "source": [
    "## Mar 11 \\& 13 (Spring Break)\n",
    "### No Class"
   ]
  },
  {
   "cell_type": "markdown",
   "metadata": {},
   "source": [
    "## Mar 18\n",
    "### The Interiors of Stars Part III\n",
    "### Teaching Presentations"
   ]
  },
  {
   "cell_type": "markdown",
   "metadata": {},
   "source": [
    "## Mar 20\n",
    "### The Interiors of Stars Part IV\n",
    "### Teaching Presentations"
   ]
  },
  {
   "cell_type": "markdown",
   "metadata": {},
   "source": [
    "## Mar 25 \n",
    "### The Interstellar Medium and Star Formation Part I"
   ]
  },
  {
   "cell_type": "markdown",
   "metadata": {},
   "source": [
    "## Mar 27 (Exam II take-home)\n",
    "### The Interstellar Medium and Star Formation Part II"
   ]
  },
  {
   "cell_type": "markdown",
   "metadata": {},
   "source": [
    "## Apr 1\n",
    "### Main-Sequence and Post-Main-Sequence Stellar Evolution Part I"
   ]
  },
  {
   "cell_type": "markdown",
   "metadata": {},
   "source": [
    "## Apr 3\n",
    "### Main-Sequence and Post-Main-Sequence Stellar Evolution Part II"
   ]
  },
  {
   "cell_type": "markdown",
   "metadata": {},
   "source": [
    "## Apr 8\n",
    "### Stellar Pulsation "
   ]
  },
  {
   "cell_type": "markdown",
   "metadata": {},
   "source": [
    "## Apr 10\n",
    "### The Fate of Massive Stars Part I "
   ]
  },
  {
   "cell_type": "markdown",
   "metadata": {},
   "source": [
    "## Apr 15\n",
    "### The Fate of Massive Stars Part II"
   ]
  },
  {
   "cell_type": "markdown",
   "metadata": {},
   "source": [
    "## Apr 17\n",
    "### The Degenerate Remnants of Stars Part I"
   ]
  },
  {
   "cell_type": "markdown",
   "metadata": {},
   "source": [
    "## Apr 22\n",
    "### The Degenerate Remnants of Stars Part II"
   ]
  },
  {
   "cell_type": "markdown",
   "metadata": {},
   "source": [
    "## Apr 24\n",
    "### Review Paper Presentations"
   ]
  },
  {
   "cell_type": "markdown",
   "metadata": {},
   "source": [
    "## Apr 29\n",
    "### Review Paper Presentations"
   ]
  },
  {
   "cell_type": "markdown",
   "metadata": {},
   "source": [
    "## May 2 (Final Exam)\n",
    "### Final Exam (2:45 pm – 4:45 pm)"
   ]
  }
 ],
 "metadata": {
  "kernelspec": {
   "display_name": "base",
   "language": "python",
   "name": "python3"
  },
  "language_info": {
   "codemirror_mode": {
    "name": "ipython",
    "version": 3
   },
   "file_extension": ".py",
   "mimetype": "text/x-python",
   "name": "python",
   "nbconvert_exporter": "python",
   "pygments_lexer": "ipython3",
   "version": "3.8.8"
  },
  "orig_nbformat": 4,
  "vscode": {
   "interpreter": {
    "hash": "b46b6cd7437fccd56f9d889ab8b597852de90099948480230438ac6eaaa10679"
   }
  }
 },
 "nbformat": 4,
 "nbformat_minor": 2
}
